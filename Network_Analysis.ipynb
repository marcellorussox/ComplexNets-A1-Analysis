{
 "cells": [
  {
   "metadata": {},
   "cell_type": "markdown",
   "source": [
    "# Complex Network Analysis\n",
    "## Part 1: Structural Characterization"
   ],
   "id": "fd584020c003ea59"
  },
  {
   "metadata": {
    "ExecuteTime": {
     "end_time": "2025-03-14T23:54:30.552786Z",
     "start_time": "2025-03-14T23:54:30.546987Z"
    }
   },
   "cell_type": "code",
   "source": [
    "import networkx as nx\n",
    "import pandas as pd\n",
    "from tqdm.auto import tqdm\n",
    "import matplotlib.pyplot as plt\n",
    "import numpy as np\n",
    "\n",
    "NETWORKS = ['net1', 'net2', 'net3', 'net4']\n",
    "metrics = []"
   ],
   "id": "ec567c4550c9c205",
   "outputs": [],
   "execution_count": 19
  },
  {
   "metadata": {},
   "cell_type": "markdown",
   "source": "## Macroscopic Analysis",
   "id": "33312171ae5dee47"
  },
  {
   "metadata": {
    "ExecuteTime": {
     "end_time": "2025-03-14T23:55:40.504378Z",
     "start_time": "2025-03-14T23:54:32.127230Z"
    }
   },
   "cell_type": "code",
   "source": [
    "def load_network(net_name):\n",
    "    \"\"\"Caricamento ottimizzato per il formato specifico delle reti\"\"\"\n",
    "    path = f'data/{net_name}.net'\n",
    "    G = nx.Graph()  # Forza grafo non orientato semplice\n",
    "    \n",
    "    with open(path, 'r') as f:\n",
    "        # Legge i vertici saltando le proprietà aggiuntive\n",
    "        while True:\n",
    "            line = f.readline()\n",
    "            if line.startswith('*vertices'):\n",
    "                n_nodes = int(line.split()[1])\n",
    "                for _ in range(n_nodes):\n",
    "                    parts = f.readline().split()\n",
    "                    node = int(parts[0])\n",
    "                    G.add_node(node)\n",
    "                break\n",
    "                \n",
    "        # Legge gli archi\n",
    "        for line in f:\n",
    "            if line.startswith('*edges'):\n",
    "                continue\n",
    "            parts = line.strip().split()\n",
    "            if len(parts) >= 2:\n",
    "                u, v = int(parts[0]), int(parts[1])\n",
    "                G.add_edge(u, v)\n",
    "    \n",
    "    return G\n",
    "    \n",
    "\n",
    "def analyze_network(G):\n",
    "    \"\"\"Analisi adattata per reti ad anello/strutturate\"\"\"\n",
    "    # Calcola metriche di base\n",
    "    metrics = {\n",
    "        'Nodes': G.number_of_nodes(),\n",
    "        'Edges': G.number_of_edges(),\n",
    "        'Avg Degree': 2 * G.number_of_edges() / G.number_of_nodes()\n",
    "    }\n",
    "    \n",
    "    # Clustering coefficient per reti strutturate\n",
    "    metrics['Clustering'] = nx.average_clustering(G, count_zeros=True)\n",
    "    \n",
    "    # Path analysis su componente connessa\n",
    "    if nx.is_connected(G):\n",
    "        metrics['Avg Path Length'] = nx.average_shortest_path_length(G)\n",
    "        metrics['Diameter'] = nx.diameter(G)\n",
    "    else:\n",
    "        giant = max(nx.connected_components(G), key=len)\n",
    "        metrics['Avg Path Length'] = nx.average_shortest_path_length(G.subgraph(giant))\n",
    "        metrics['Diameter'] = nx.diameter(G.subgraph(giant))\n",
    "    \n",
    "    return metrics\n",
    "\n",
    "# Batch processing with progress bar\n",
    "for net in tqdm(NETWORKS, desc='Analyzing networks'):\n",
    "    G = load_network(net)\n",
    "    metrics.append(analyze_network(G))\n",
    "\n",
    "# Create results dataframe\n",
    "df_metrics = pd.DataFrame(metrics)\n",
    "df_metrics.to_csv('network_metrics.csv', index=False)"
   ],
   "id": "5b8054b94d63148a",
   "outputs": [
    {
     "data": {
      "text/plain": [
       "Analyzing networks:   0%|          | 0/4 [00:00<?, ?it/s]"
      ],
      "application/vnd.jupyter.widget-view+json": {
       "version_major": 2,
       "version_minor": 0,
       "model_id": "1d57887a13de4e09b5f3a23cafabdf39"
      }
     },
     "metadata": {},
     "output_type": "display_data"
    }
   ],
   "execution_count": 20
  },
  {
   "metadata": {},
   "cell_type": "markdown",
   "source": "## Microscopic Analysis",
   "id": "deb07cb38cd44f92"
  },
  {
   "metadata": {
    "ExecuteTime": {
     "end_time": "2025-03-14T23:56:05.927131Z",
     "start_time": "2025-03-14T23:55:44.994344Z"
    }
   },
   "cell_type": "code",
   "source": [
    "def calculate_centralities(G):\n",
    "    \"\"\"Calcolo centralità ottimizzato per reti ad anello\"\"\"\n",
    "    # Betweenness approssimato\n",
    "    betweenness = nx.betweenness_centrality(G, k=min(500, len(G)), seed=42)\n",
    "    \n",
    "    # Eigenvector centrality con normalizzazione\n",
    "    try:\n",
    "        eigen = nx.eigenvector_centrality(G, max_iter=2000, tol=1e-6)\n",
    "    except nx.PowerIterationFailedConvergence:\n",
    "        eigen = {n: 0 for n in G.nodes()}\n",
    "    \n",
    "    return {\n",
    "        'Betweenness': betweenness,\n",
    "        'Degree': nx.degree_centrality(G),\n",
    "        'Eigenvector': eigen\n",
    "    }\n",
    "\n",
    "centrality_results = {}\n",
    "\n",
    "for net in NETWORKS:\n",
    "    G = load_network(net)\n",
    "    centrality_results[net] = calculate_centralities(G)\n",
    "    \n",
    "    # Save top 5 nodes\n",
    "    for metric, values in centrality_results[net].items():\n",
    "        top5 = sorted(values.items(), key=lambda x: -x[1])[:5]\n",
    "        print(f\"{net} - {metric}: {[n[0] for n in top5]}\")"
   ],
   "id": "ab7d5d0a064322eb",
   "outputs": [
    {
     "name": "stdout",
     "output_type": "stream",
     "text": [
      "net1 - Betweenness: [4748, 4725, 1796, 2646, 2547]\n",
      "net1 - Degree: [1694, 652, 1580, 4892, 42]\n",
      "net1 - Eigenvector: [652, 1938, 4527, 4399, 1940]\n",
      "net2 - Betweenness: [4670, 1582, 2813, 2373, 752]\n",
      "net2 - Degree: [1582, 788, 53, 1991, 2373]\n",
      "net2 - Eigenvector: [1582, 3234, 788, 2376, 132]\n",
      "net3 - Betweenness: [8, 6, 1, 3, 5]\n",
      "net3 - Degree: [6, 8, 3, 1, 7]\n",
      "net3 - Eigenvector: [6, 8, 3, 1, 4]\n",
      "net4 - Betweenness: [1, 7, 10, 9, 4]\n",
      "net4 - Degree: [7, 1, 10, 11, 9]\n",
      "net4 - Eigenvector: [7, 1, 10, 9, 4]\n"
     ]
    }
   ],
   "execution_count": 21
  },
  {
   "metadata": {},
   "cell_type": "markdown",
   "source": "## Degree Distribution Analysis",
   "id": "d6561856a235ca2f"
  },
  {
   "metadata": {
    "ExecuteTime": {
     "end_time": "2025-03-14T23:51:56.990496Z",
     "start_time": "2025-03-14T23:51:56.384765Z"
    }
   },
   "cell_type": "code",
   "source": [
    "import os  # Aggiungi questo import\n",
    "\n",
    "def plot_degree_distribution(G, net_name):\n",
    "    # Crea la cartella se non esiste\n",
    "    os.makedirs('images', exist_ok=True)\n",
    "    \n",
    "    degrees = [d for _, d in G.degree()]\n",
    "    \n",
    "    plt.figure(figsize=(10, 6))\n",
    "    if max(degrees) > 1000:\n",
    "        plt.xscale('log')\n",
    "        plt.yscale('log')\n",
    "        bins = np.logspace(np.log10(1), np.log10(max(degrees)), 50)\n",
    "    else:\n",
    "        bins = 50\n",
    "        \n",
    "    plt.hist(degrees, bins=bins, density=True)\n",
    "    plt.savefig(f'images/{net_name}_degree_dist.png')\n",
    "    plt.close()\n",
    "\n",
    "# Esegui prima la creazione della cartella\n",
    "os.makedirs('images', exist_ok=True)\n",
    "\n",
    "for net in NETWORKS:\n",
    "    G = load_network(net)  # Usa la tua funzione di caricamento modificata\n",
    "    plot_degree_distribution(G, net)"
   ],
   "id": "355f5d1cad56d2ce",
   "outputs": [],
   "execution_count": 18
  },
  {
   "metadata": {},
   "cell_type": "code",
   "outputs": [],
   "execution_count": null,
   "source": "",
   "id": "b04b88c2856501b4"
  }
 ],
 "metadata": {
  "kernelspec": {
   "display_name": "Python 3",
   "language": "python",
   "name": "python3"
  }
 }
}
